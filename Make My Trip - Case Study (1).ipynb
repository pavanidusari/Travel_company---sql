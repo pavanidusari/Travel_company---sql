{
 "cells": [
  {
   "cell_type": "markdown",
   "id": "f6ab0926",
   "metadata": {},
   "source": [
    "<img src=\"https://companieslogo.com/img/orig/MMYT-ca98a9f1.png?t=1602681214\" width=\"70\" height=\"90\">\n",
    "\n",
    "# `Make My Trip` : Case Study\n",
    "\n",
    "A manager at a travel app has come up with some questions and asks the __Data Analyst in the company__ to fetch the answers for the same:\n",
    "\n",
    "### Questions: \n",
    "\n",
    "1. Get total counts of ___segment-wise___: \n",
    "    - `Unique users`\n",
    "    - `Users who booked flight in the month of April`\n",
    "\n",
    "\n",
    "2. Get all users who started using the app by booking `Hotel` first\n",
    "\n",
    "\n",
    "3. No. of days between first booking and last booking for all users\n",
    "\n",
    "\n",
    "4. Total `Flights` and `Hotel` bookings by each segment"
   ]
  },
  {
   "cell_type": "markdown",
   "id": "349fa5ea",
   "metadata": {},
   "source": [
    "-----"
   ]
  },
  {
   "cell_type": "markdown",
   "id": "e613d521",
   "metadata": {},
   "source": [
    "# Import libraries & Connections"
   ]
  },
  {
   "cell_type": "code",
   "execution_count": 1,
   "id": "5443f36f",
   "metadata": {},
   "outputs": [],
   "source": [
    "import os\n",
    "import pandas as pd\n",
    "import sqlite3 as s3\n",
    "\n",
    "con = s3.connect(\"database.db\")"
   ]
  },
  {
   "cell_type": "markdown",
   "id": "57ce8b76",
   "metadata": {},
   "source": [
    "# Functions to reproduce `DDL` and `DML` steps"
   ]
  },
  {
   "cell_type": "code",
   "execution_count": 2,
   "id": "8a38bcd9",
   "metadata": {},
   "outputs": [],
   "source": [
    "def create_table(query, con=con):\n",
    "    for i in table.split(';'):\n",
    "        con.execute(i.strip())\n",
    "\n",
    "def query(query, con=con):\n",
    "    return pd.read_sql(query, con)\n",
    "\n",
    "def delete_db(db_name):\n",
    "    try:\n",
    "        os.remove(db_name)\n",
    "        os.remove(db_name+'-journal')\n",
    "    except:\n",
    "        pass"
   ]
  },
  {
   "cell_type": "code",
   "execution_count": 3,
   "id": "221f7955",
   "metadata": {},
   "outputs": [],
   "source": [
    "# Creating the tables - Bookings & Users\n",
    "\n",
    "table = \"\"\"CREATE TABLE booking_table(\n",
    "   Booking_id       VARCHAR(3) NOT NULL \n",
    "  ,Booking_date     date NOT NULL\n",
    "  ,User_id          VARCHAR(2) NOT NULL\n",
    "  ,Line_of_business VARCHAR(6) NOT NULL\n",
    ");\n",
    "INSERT INTO booking_table(Booking_id,Booking_date,User_id,Line_of_business) VALUES ('b1','2022-03-23','u1','Flight');\n",
    "INSERT INTO booking_table(Booking_id,Booking_date,User_id,Line_of_business) VALUES ('b2','2022-03-27','u2','Flight');\n",
    "INSERT INTO booking_table(Booking_id,Booking_date,User_id,Line_of_business) VALUES ('b3','2022-03-28','u1','Hotel');\n",
    "INSERT INTO booking_table(Booking_id,Booking_date,User_id,Line_of_business) VALUES ('b4','2022-03-31','u4','Flight');\n",
    "INSERT INTO booking_table(Booking_id,Booking_date,User_id,Line_of_business) VALUES ('b5','2022-04-02','u1','Hotel');\n",
    "INSERT INTO booking_table(Booking_id,Booking_date,User_id,Line_of_business) VALUES ('b6','2022-04-02','u2','Flight');\n",
    "INSERT INTO booking_table(Booking_id,Booking_date,User_id,Line_of_business) VALUES ('b7','2022-04-06','u5','Flight');\n",
    "INSERT INTO booking_table(Booking_id,Booking_date,User_id,Line_of_business) VALUES ('b8','2022-04-06','u6','Hotel');\n",
    "INSERT INTO booking_table(Booking_id,Booking_date,User_id,Line_of_business) VALUES ('b9','2022-04-06','u2','Flight');\n",
    "INSERT INTO booking_table(Booking_id,Booking_date,User_id,Line_of_business) VALUES ('b10','2022-04-10','u1','Flight');\n",
    "INSERT INTO booking_table(Booking_id,Booking_date,User_id,Line_of_business) VALUES ('b11','2022-04-12','u4','Flight');\n",
    "INSERT INTO booking_table(Booking_id,Booking_date,User_id,Line_of_business) VALUES ('b12','2022-04-16','u1','Flight');\n",
    "INSERT INTO booking_table(Booking_id,Booking_date,User_id,Line_of_business) VALUES ('b13','2022-04-19','u2','Flight');\n",
    "INSERT INTO booking_table(Booking_id,Booking_date,User_id,Line_of_business) VALUES ('b14','2022-04-20','u5','Hotel');\n",
    "INSERT INTO booking_table(Booking_id,Booking_date,User_id,Line_of_business) VALUES ('b15','2022-04-22','u6','Flight');\n",
    "INSERT INTO booking_table(Booking_id,Booking_date,User_id,Line_of_business) VALUES ('b16','2022-04-26','u4','Hotel');\n",
    "INSERT INTO booking_table(Booking_id,Booking_date,User_id,Line_of_business) VALUES ('b17','2022-04-28','u2','Hotel');\n",
    "INSERT INTO booking_table(Booking_id,Booking_date,User_id,Line_of_business) VALUES ('b18','2022-04-30','u1','Hotel');\n",
    "INSERT INTO booking_table(Booking_id,Booking_date,User_id,Line_of_business) VALUES ('b19','2022-05-04','u4','Hotel');\n",
    "INSERT INTO booking_table(Booking_id,Booking_date,User_id,Line_of_business) VALUES ('b20','2022-05-06','u1','Flight');\n",
    ";\n",
    "CREATE TABLE user_table(\n",
    "   User_id VARCHAR(3) NOT NULL\n",
    "  ,Segment VARCHAR(2) NOT NULL\n",
    ");\n",
    "INSERT INTO user_table(User_id,Segment) VALUES ('u1','s1');\n",
    "INSERT INTO user_table(User_id,Segment) VALUES ('u2','s1');\n",
    "INSERT INTO user_table(User_id,Segment) VALUES ('u3','s1');\n",
    "INSERT INTO user_table(User_id,Segment) VALUES ('u4','s2');\n",
    "INSERT INTO user_table(User_id,Segment) VALUES ('u5','s2');\n",
    "INSERT INTO user_table(User_id,Segment) VALUES ('u6','s3');\n",
    "INSERT INTO user_table(User_id,Segment) VALUES ('u7','s3');\n",
    "INSERT INTO user_table(User_id,Segment) VALUES ('u8','s3');\n",
    "INSERT INTO user_table(User_id,Segment) VALUES ('u9','s3');\n",
    "INSERT INTO user_table(User_id,Segment) VALUES ('u10','s3');\n",
    "\"\"\"\n",
    "\n",
    "create_table(table)"
   ]
  },
  {
   "cell_type": "markdown",
   "id": "7781ac55",
   "metadata": {},
   "source": [
    "------"
   ]
  },
  {
   "cell_type": "markdown",
   "id": "1f92e91b",
   "metadata": {},
   "source": [
    "### 1. Segment Wise Information"
   ]
  },
  {
   "cell_type": "code",
   "execution_count": 10,
   "id": "71bae468",
   "metadata": {},
   "outputs": [
    {
     "data": {
      "text/html": [
       "<div>\n",
       "<style scoped>\n",
       "    .dataframe tbody tr th:only-of-type {\n",
       "        vertical-align: middle;\n",
       "    }\n",
       "\n",
       "    .dataframe tbody tr th {\n",
       "        vertical-align: top;\n",
       "    }\n",
       "\n",
       "    .dataframe thead th {\n",
       "        text-align: right;\n",
       "    }\n",
       "</style>\n",
       "<table border=\"1\" class=\"dataframe\">\n",
       "  <thead>\n",
       "    <tr style=\"text-align: right;\">\n",
       "      <th></th>\n",
       "      <th>Segment</th>\n",
       "      <th>Users</th>\n",
       "      <th>Users_on_flight</th>\n",
       "    </tr>\n",
       "  </thead>\n",
       "  <tbody>\n",
       "    <tr>\n",
       "      <th>0</th>\n",
       "      <td>s1</td>\n",
       "      <td>3</td>\n",
       "      <td>2</td>\n",
       "    </tr>\n",
       "    <tr>\n",
       "      <th>1</th>\n",
       "      <td>s2</td>\n",
       "      <td>2</td>\n",
       "      <td>2</td>\n",
       "    </tr>\n",
       "    <tr>\n",
       "      <th>2</th>\n",
       "      <td>s3</td>\n",
       "      <td>5</td>\n",
       "      <td>1</td>\n",
       "    </tr>\n",
       "  </tbody>\n",
       "</table>\n",
       "</div>"
      ],
      "text/plain": [
       "  Segment  Users  Users_on_flight\n",
       "0      s1      3                2\n",
       "1      s2      2                2\n",
       "2      s3      5                1"
      ]
     },
     "execution_count": 10,
     "metadata": {},
     "output_type": "execute_result"
    }
   ],
   "source": [
    "q = \"\"\"\n",
    "\n",
    "SELECT \n",
    "    u.segment, \n",
    "    count(distinct u.user_id) as Users,\n",
    "    count(distinct CASE WHEN b.Line_of_business = 'Flight' AND \n",
    "                             booking_date BETWEEN '2022-04-01' AND '2022-04-30'\n",
    "                        THEN b.user_id END) as Users_on_flight\n",
    "FROM user_table u\n",
    "    left Join booking_table b ON u.user_id = b.user_id\n",
    "Group By u.segment\n",
    "\"\"\"\n",
    "\n",
    "query(q)"
   ]
  },
  {
   "cell_type": "markdown",
   "id": "c80621cb",
   "metadata": {},
   "source": [
    "------"
   ]
  },
  {
   "cell_type": "markdown",
   "id": "da4b38e2",
   "metadata": {},
   "source": [
    "### 2. Users whose first booking is `Hotel`\n",
    "\n",
    "###### method 1"
   ]
  },
  {
   "cell_type": "code",
   "execution_count": 6,
   "id": "72a7b92c",
   "metadata": {},
   "outputs": [
    {
     "data": {
      "text/html": [
       "<div>\n",
       "<style scoped>\n",
       "    .dataframe tbody tr th:only-of-type {\n",
       "        vertical-align: middle;\n",
       "    }\n",
       "\n",
       "    .dataframe tbody tr th {\n",
       "        vertical-align: top;\n",
       "    }\n",
       "\n",
       "    .dataframe thead th {\n",
       "        text-align: right;\n",
       "    }\n",
       "</style>\n",
       "<table border=\"1\" class=\"dataframe\">\n",
       "  <thead>\n",
       "    <tr style=\"text-align: right;\">\n",
       "      <th></th>\n",
       "      <th>User_id</th>\n",
       "    </tr>\n",
       "  </thead>\n",
       "  <tbody>\n",
       "    <tr>\n",
       "      <th>0</th>\n",
       "      <td>u6</td>\n",
       "    </tr>\n",
       "  </tbody>\n",
       "</table>\n",
       "</div>"
      ],
      "text/plain": [
       "  User_id\n",
       "0      u6"
      ]
     },
     "execution_count": 6,
     "metadata": {},
     "output_type": "execute_result"
    }
   ],
   "source": [
    "q = \"\"\"\n",
    "SELECT \n",
    "    user_id \n",
    "FROM (SELECT *, \n",
    "             RANK() OVER(PARTITION BY user_id ORDER BY booking_date) AS rn \n",
    "      FROM booking_table)\n",
    "      \n",
    "WHERE rn=1 AND line_of_business = 'Hotel'\n",
    "\"\"\"\n",
    "\n",
    "query(q)"
   ]
  },
  {
   "cell_type": "markdown",
   "id": "7aed3955",
   "metadata": {},
   "source": [
    "###### method 2"
   ]
  },
  {
   "cell_type": "code",
   "execution_count": 8,
   "id": "e82f4ab1",
   "metadata": {},
   "outputs": [
    {
     "data": {
      "text/html": [
       "<div>\n",
       "<style scoped>\n",
       "    .dataframe tbody tr th:only-of-type {\n",
       "        vertical-align: middle;\n",
       "    }\n",
       "\n",
       "    .dataframe tbody tr th {\n",
       "        vertical-align: top;\n",
       "    }\n",
       "\n",
       "    .dataframe thead th {\n",
       "        text-align: right;\n",
       "    }\n",
       "</style>\n",
       "<table border=\"1\" class=\"dataframe\">\n",
       "  <thead>\n",
       "    <tr style=\"text-align: right;\">\n",
       "      <th></th>\n",
       "      <th>User_id</th>\n",
       "    </tr>\n",
       "  </thead>\n",
       "  <tbody>\n",
       "    <tr>\n",
       "      <th>0</th>\n",
       "      <td>u6</td>\n",
       "    </tr>\n",
       "  </tbody>\n",
       "</table>\n",
       "</div>"
      ],
      "text/plain": [
       "  User_id\n",
       "0      u6"
      ]
     },
     "execution_count": 8,
     "metadata": {},
     "output_type": "execute_result"
    }
   ],
   "source": [
    "q = \"\"\"\n",
    "SELECT \n",
    "    DISTINCT user_id \n",
    "FROM (SELECT *, \n",
    "             FIRST_VALUE(line_of_business) OVER(PARTITION BY user_id ORDER BY booking_date) AS first_booking \n",
    "      FROM booking_table)\n",
    "WHERE first_booking = 'Hotel'\n",
    "\"\"\"\n",
    "\n",
    "query(q)"
   ]
  },
  {
   "cell_type": "markdown",
   "id": "d1f1bf12",
   "metadata": {},
   "source": [
    "-------"
   ]
  },
  {
   "cell_type": "markdown",
   "id": "7efe1452",
   "metadata": {},
   "source": [
    "### 3. No. of Days between first and last booking of each user"
   ]
  },
  {
   "cell_type": "code",
   "execution_count": 13,
   "id": "6fe349ce",
   "metadata": {},
   "outputs": [
    {
     "data": {
      "text/html": [
       "<div>\n",
       "<style scoped>\n",
       "    .dataframe tbody tr th:only-of-type {\n",
       "        vertical-align: middle;\n",
       "    }\n",
       "\n",
       "    .dataframe tbody tr th {\n",
       "        vertical-align: top;\n",
       "    }\n",
       "\n",
       "    .dataframe thead th {\n",
       "        text-align: right;\n",
       "    }\n",
       "</style>\n",
       "<table border=\"1\" class=\"dataframe\">\n",
       "  <thead>\n",
       "    <tr style=\"text-align: right;\">\n",
       "      <th></th>\n",
       "      <th>User_id</th>\n",
       "      <th>first_date</th>\n",
       "      <th>last_date</th>\n",
       "      <th>number_of_days</th>\n",
       "    </tr>\n",
       "  </thead>\n",
       "  <tbody>\n",
       "    <tr>\n",
       "      <th>0</th>\n",
       "      <td>u1</td>\n",
       "      <td>2022-03-23</td>\n",
       "      <td>2022-05-06</td>\n",
       "      <td>44.0</td>\n",
       "    </tr>\n",
       "    <tr>\n",
       "      <th>1</th>\n",
       "      <td>u2</td>\n",
       "      <td>2022-03-27</td>\n",
       "      <td>2022-04-28</td>\n",
       "      <td>32.0</td>\n",
       "    </tr>\n",
       "    <tr>\n",
       "      <th>2</th>\n",
       "      <td>u4</td>\n",
       "      <td>2022-03-31</td>\n",
       "      <td>2022-05-04</td>\n",
       "      <td>34.0</td>\n",
       "    </tr>\n",
       "    <tr>\n",
       "      <th>3</th>\n",
       "      <td>u5</td>\n",
       "      <td>2022-04-06</td>\n",
       "      <td>2022-04-20</td>\n",
       "      <td>14.0</td>\n",
       "    </tr>\n",
       "    <tr>\n",
       "      <th>4</th>\n",
       "      <td>u6</td>\n",
       "      <td>2022-04-06</td>\n",
       "      <td>2022-04-22</td>\n",
       "      <td>16.0</td>\n",
       "    </tr>\n",
       "  </tbody>\n",
       "</table>\n",
       "</div>"
      ],
      "text/plain": [
       "  User_id  first_date   last_date  number_of_days\n",
       "0      u1  2022-03-23  2022-05-06            44.0\n",
       "1      u2  2022-03-27  2022-04-28            32.0\n",
       "2      u4  2022-03-31  2022-05-04            34.0\n",
       "3      u5  2022-04-06  2022-04-20            14.0\n",
       "4      u6  2022-04-06  2022-04-22            16.0"
      ]
     },
     "execution_count": 13,
     "metadata": {},
     "output_type": "execute_result"
    }
   ],
   "source": [
    "q = \"\"\"\n",
    "\n",
    "SELECT \n",
    "    user_id, \n",
    "    MIN(booking_date) as first_date, \n",
    "    MAX(booking_date) as last_date, \n",
    "    (JULIANDAY(MAX(booking_date))- JULIANDAY(MIN(booking_date))) as number_of_days\n",
    "FROM booking_table\n",
    "GROUP BY user_id\n",
    "\n",
    "\"\"\"\n",
    "\n",
    "query(q)"
   ]
  },
  {
   "cell_type": "markdown",
   "id": "11759f99",
   "metadata": {},
   "source": [
    "------"
   ]
  },
  {
   "cell_type": "markdown",
   "id": "908fb18f",
   "metadata": {},
   "source": [
    "### 4. Total no. of `flights` and `hotel` bookings in each segment"
   ]
  },
  {
   "cell_type": "code",
   "execution_count": 14,
   "id": "f5ca6467",
   "metadata": {},
   "outputs": [
    {
     "data": {
      "text/html": [
       "<div>\n",
       "<style scoped>\n",
       "    .dataframe tbody tr th:only-of-type {\n",
       "        vertical-align: middle;\n",
       "    }\n",
       "\n",
       "    .dataframe tbody tr th {\n",
       "        vertical-align: top;\n",
       "    }\n",
       "\n",
       "    .dataframe thead th {\n",
       "        text-align: right;\n",
       "    }\n",
       "</style>\n",
       "<table border=\"1\" class=\"dataframe\">\n",
       "  <thead>\n",
       "    <tr style=\"text-align: right;\">\n",
       "      <th></th>\n",
       "      <th>Segment</th>\n",
       "      <th>Flight_Bookings</th>\n",
       "      <th>Hotel_Bookings</th>\n",
       "    </tr>\n",
       "  </thead>\n",
       "  <tbody>\n",
       "    <tr>\n",
       "      <th>0</th>\n",
       "      <td>s1</td>\n",
       "      <td>8</td>\n",
       "      <td>4</td>\n",
       "    </tr>\n",
       "    <tr>\n",
       "      <th>1</th>\n",
       "      <td>s2</td>\n",
       "      <td>3</td>\n",
       "      <td>3</td>\n",
       "    </tr>\n",
       "    <tr>\n",
       "      <th>2</th>\n",
       "      <td>s3</td>\n",
       "      <td>1</td>\n",
       "      <td>1</td>\n",
       "    </tr>\n",
       "  </tbody>\n",
       "</table>\n",
       "</div>"
      ],
      "text/plain": [
       "  Segment  Flight_Bookings  Hotel_Bookings\n",
       "0      s1                8               4\n",
       "1      s2                3               3\n",
       "2      s3                1               1"
      ]
     },
     "execution_count": 14,
     "metadata": {},
     "output_type": "execute_result"
    }
   ],
   "source": [
    "q = \"\"\"\n",
    "\n",
    "SELECT \n",
    "    u.segment,\n",
    "    COUNT(CASE WHEN line_of_business = \"Flight\" THEN Booking_id END) AS Flight_Bookings,\n",
    "    COUNT(CASE WHEN line_of_business = \"Hotel\" THEN Booking_id END) AS Hotel_Bookings\n",
    "FROM user_table u\n",
    "LEFT JOIN Booking_table b ON b.user_id = u.user_id\n",
    "GROUP BY u.segment\n",
    "\n",
    "\"\"\"\n",
    "\n",
    "query(q)"
   ]
  },
  {
   "cell_type": "markdown",
   "id": "4db108cd",
   "metadata": {},
   "source": [
    "---"
   ]
  }
 ],
 "metadata": {
  "kernelspec": {
   "display_name": "Python 3 (ipykernel)",
   "language": "python",
   "name": "python3"
  },
  "language_info": {
   "codemirror_mode": {
    "name": "ipython",
    "version": 3
   },
   "file_extension": ".py",
   "mimetype": "text/x-python",
   "name": "python",
   "nbconvert_exporter": "python",
   "pygments_lexer": "ipython3",
   "version": "3.9.12"
  }
 },
 "nbformat": 4,
 "nbformat_minor": 5
}
